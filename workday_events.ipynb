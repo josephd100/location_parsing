{
 "cells": [
  {
   "cell_type": "code",
   "execution_count": 16,
   "metadata": {},
   "outputs": [],
   "source": [
    "import requests\n",
    "from google.cloud import bigquery"
   ]
  },
  {
   "cell_type": "code",
   "execution_count": 17,
   "metadata": {},
   "outputs": [
    {
     "ename": "DefaultCredentialsError",
     "evalue": "Your default credentials were not found. To set up Application Default Credentials, see https://cloud.google.com/docs/authentication/external/set-up-adc for more information.",
     "output_type": "error",
     "traceback": [
      "\u001b[0;31m---------------------------------------------------------------------------\u001b[0m",
      "\u001b[0;31mDefaultCredentialsError\u001b[0m                   Traceback (most recent call last)",
      "Cell \u001b[0;32mIn[17], line 55\u001b[0m\n\u001b[1;32m     52\u001b[0m         load_data_into_bigquery(report_data, project_id)\n\u001b[1;32m     54\u001b[0m \u001b[39mif\u001b[39;00m \u001b[39m__name__\u001b[39m \u001b[39m==\u001b[39m \u001b[39m'\u001b[39m\u001b[39m__main__\u001b[39m\u001b[39m'\u001b[39m:\n\u001b[0;32m---> 55\u001b[0m     main()\n",
      "Cell \u001b[0;32mIn[17], line 52\u001b[0m, in \u001b[0;36mmain\u001b[0;34m()\u001b[0m\n\u001b[1;32m     50\u001b[0m \u001b[39mif\u001b[39;00m report_data:\n\u001b[1;32m     51\u001b[0m     project_id \u001b[39m=\u001b[39m \u001b[39m'\u001b[39m\u001b[39mppl-stage-bigquery\u001b[39m\u001b[39m'\u001b[39m\n\u001b[0;32m---> 52\u001b[0m     load_data_into_bigquery(report_data, project_id)\n",
      "Cell \u001b[0;32mIn[17], line 30\u001b[0m, in \u001b[0;36mload_data_into_bigquery\u001b[0;34m(data, project_id)\u001b[0m\n\u001b[1;32m     29\u001b[0m \u001b[39mdef\u001b[39;00m \u001b[39mload_data_into_bigquery\u001b[39m(data, project_id):\n\u001b[0;32m---> 30\u001b[0m     client \u001b[39m=\u001b[39m bigquery\u001b[39m.\u001b[39;49mClient(project\u001b[39m=\u001b[39;49mproject_id)\n\u001b[1;32m     31\u001b[0m     dataset_id \u001b[39m=\u001b[39m \u001b[39m'\u001b[39m\u001b[39mpeople_derived_tables\u001b[39m\u001b[39m'\u001b[39m  \u001b[39m# Define your dataset ID here\u001b[39;00m\n\u001b[1;32m     32\u001b[0m     table_id \u001b[39m=\u001b[39m \u001b[39m'\u001b[39m\u001b[39mpeople_events\u001b[39m\u001b[39m'\u001b[39m  \u001b[39m# Define your table ID here\u001b[39;00m\n",
      "File \u001b[0;32m/opt/homebrew/lib/python3.11/site-packages/google/cloud/bigquery/client.py:245\u001b[0m, in \u001b[0;36mClient.__init__\u001b[0;34m(self, project, credentials, _http, location, default_query_job_config, default_load_job_config, client_info, client_options)\u001b[0m\n\u001b[1;32m    234\u001b[0m \u001b[39mdef\u001b[39;00m \u001b[39m__init__\u001b[39m(\n\u001b[1;32m    235\u001b[0m     \u001b[39mself\u001b[39m,\n\u001b[1;32m    236\u001b[0m     project\u001b[39m=\u001b[39m\u001b[39mNone\u001b[39;00m,\n\u001b[0;32m   (...)\u001b[0m\n\u001b[1;32m    243\u001b[0m     client_options\u001b[39m=\u001b[39m\u001b[39mNone\u001b[39;00m,\n\u001b[1;32m    244\u001b[0m ) \u001b[39m-\u001b[39m\u001b[39m>\u001b[39m \u001b[39mNone\u001b[39;00m:\n\u001b[0;32m--> 245\u001b[0m     \u001b[39msuper\u001b[39;49m(Client, \u001b[39mself\u001b[39;49m)\u001b[39m.\u001b[39;49m\u001b[39m__init__\u001b[39;49m(\n\u001b[1;32m    246\u001b[0m         project\u001b[39m=\u001b[39;49mproject,\n\u001b[1;32m    247\u001b[0m         credentials\u001b[39m=\u001b[39;49mcredentials,\n\u001b[1;32m    248\u001b[0m         client_options\u001b[39m=\u001b[39;49mclient_options,\n\u001b[1;32m    249\u001b[0m         _http\u001b[39m=\u001b[39;49m_http,\n\u001b[1;32m    250\u001b[0m     )\n\u001b[1;32m    252\u001b[0m     kw_args \u001b[39m=\u001b[39m {\u001b[39m\"\u001b[39m\u001b[39mclient_info\u001b[39m\u001b[39m\"\u001b[39m: client_info}\n\u001b[1;32m    253\u001b[0m     bq_host \u001b[39m=\u001b[39m _get_bigquery_host()\n",
      "File \u001b[0;32m/opt/homebrew/lib/python3.11/site-packages/google/cloud/client/__init__.py:321\u001b[0m, in \u001b[0;36mClientWithProject.__init__\u001b[0;34m(self, project, credentials, client_options, _http)\u001b[0m\n\u001b[1;32m    319\u001b[0m \u001b[39mdef\u001b[39;00m \u001b[39m__init__\u001b[39m(\u001b[39mself\u001b[39m, project\u001b[39m=\u001b[39m\u001b[39mNone\u001b[39;00m, credentials\u001b[39m=\u001b[39m\u001b[39mNone\u001b[39;00m, client_options\u001b[39m=\u001b[39m\u001b[39mNone\u001b[39;00m, _http\u001b[39m=\u001b[39m\u001b[39mNone\u001b[39;00m):\n\u001b[1;32m    320\u001b[0m     _ClientProjectMixin\u001b[39m.\u001b[39m\u001b[39m__init__\u001b[39m(\u001b[39mself\u001b[39m, project\u001b[39m=\u001b[39mproject, credentials\u001b[39m=\u001b[39mcredentials)\n\u001b[0;32m--> 321\u001b[0m     Client\u001b[39m.\u001b[39;49m\u001b[39m__init__\u001b[39;49m(\n\u001b[1;32m    322\u001b[0m         \u001b[39mself\u001b[39;49m, credentials\u001b[39m=\u001b[39;49mcredentials, client_options\u001b[39m=\u001b[39;49mclient_options, _http\u001b[39m=\u001b[39;49m_http\n\u001b[1;32m    323\u001b[0m     )\n",
      "File \u001b[0;32m/opt/homebrew/lib/python3.11/site-packages/google/cloud/client/__init__.py:178\u001b[0m, in \u001b[0;36mClient.__init__\u001b[0;34m(self, credentials, _http, client_options)\u001b[0m\n\u001b[1;32m    174\u001b[0m         credentials, _ \u001b[39m=\u001b[39m google\u001b[39m.\u001b[39mauth\u001b[39m.\u001b[39mload_credentials_from_file(\n\u001b[1;32m    175\u001b[0m             client_options\u001b[39m.\u001b[39mcredentials_file, scopes\u001b[39m=\u001b[39mscopes\n\u001b[1;32m    176\u001b[0m         )\n\u001b[1;32m    177\u001b[0m     \u001b[39melse\u001b[39;00m:\n\u001b[0;32m--> 178\u001b[0m         credentials, _ \u001b[39m=\u001b[39m google\u001b[39m.\u001b[39;49mauth\u001b[39m.\u001b[39;49mdefault(scopes\u001b[39m=\u001b[39;49mscopes)\n\u001b[1;32m    180\u001b[0m \u001b[39mself\u001b[39m\u001b[39m.\u001b[39m_credentials \u001b[39m=\u001b[39m google\u001b[39m.\u001b[39mauth\u001b[39m.\u001b[39mcredentials\u001b[39m.\u001b[39mwith_scopes_if_required(\n\u001b[1;32m    181\u001b[0m     credentials, scopes\u001b[39m=\u001b[39mscopes\n\u001b[1;32m    182\u001b[0m )\n\u001b[1;32m    184\u001b[0m \u001b[39mif\u001b[39;00m client_options\u001b[39m.\u001b[39mquota_project_id:\n",
      "File \u001b[0;32m/opt/homebrew/lib/python3.11/site-packages/google/auth/_default.py:691\u001b[0m, in \u001b[0;36mdefault\u001b[0;34m(scopes, request, quota_project_id, default_scopes)\u001b[0m\n\u001b[1;32m    683\u001b[0m             _LOGGER\u001b[39m.\u001b[39mwarning(\n\u001b[1;32m    684\u001b[0m                 \u001b[39m\"\u001b[39m\u001b[39mNo project ID could be determined. Consider running \u001b[39m\u001b[39m\"\u001b[39m\n\u001b[1;32m    685\u001b[0m                 \u001b[39m\"\u001b[39m\u001b[39m`gcloud config set project` or setting the \u001b[39m\u001b[39m%s\u001b[39;00m\u001b[39m \u001b[39m\u001b[39m\"\u001b[39m\n\u001b[1;32m    686\u001b[0m                 \u001b[39m\"\u001b[39m\u001b[39menvironment variable\u001b[39m\u001b[39m\"\u001b[39m,\n\u001b[1;32m    687\u001b[0m                 environment_vars\u001b[39m.\u001b[39mPROJECT,\n\u001b[1;32m    688\u001b[0m             )\n\u001b[1;32m    689\u001b[0m         \u001b[39mreturn\u001b[39;00m credentials, effective_project_id\n\u001b[0;32m--> 691\u001b[0m \u001b[39mraise\u001b[39;00m exceptions\u001b[39m.\u001b[39mDefaultCredentialsError(_CLOUD_SDK_MISSING_CREDENTIALS)\n",
      "\u001b[0;31mDefaultCredentialsError\u001b[0m: Your default credentials were not found. To set up Application Default Credentials, see https://cloud.google.com/docs/authentication/external/set-up-adc for more information."
     ]
    }
   ],
   "source": [
    "import requests\n",
    "from google.cloud import bigquery\n",
    "\n",
    "# Function to fetch report data from Workday API\n",
    "def fetch_workday_report(url, username, password):\n",
    "    # Define HTTP basic authentication credentials\n",
    "    auth = (username, password)\n",
    "    \n",
    "    # Make HTTP request to Workday API and fetch report data\n",
    "    response = requests.get(url, auth=auth)\n",
    "    \n",
    "    # Check if the request was successful (status code 200)\n",
    "    if response.status_code == 200:\n",
    "        try:\n",
    "            # Attempt to parse the response content as JSON\n",
    "            report_data = response.json()\n",
    "            return report_data\n",
    "        except ValueError as e:\n",
    "            # Print the response content if it's not valid JSON\n",
    "            print('Response content:', response.text)\n",
    "            print('Error parsing JSON:', e)\n",
    "            return None\n",
    "    else:\n",
    "        # Print an error message if the request was not successful\n",
    "        print('Failed to fetch data:', response.status_code)\n",
    "        return None\n",
    "\n",
    "# Function to load data into BigQuery\n",
    "def load_data_into_bigquery(data, project_id):\n",
    "    client = bigquery.Client(project=project_id)\n",
    "    dataset_id = 'people_derived_tables'  # Define your dataset ID here\n",
    "    table_id = 'people_events'  # Define your table ID here\n",
    "    dataset_ref = client.dataset(dataset_id)\n",
    "    table_ref = dataset_ref.table(table_id)\n",
    "    \n",
    "    job_config = bigquery.LoadJobConfig(schema=schema)\n",
    "    job = client.load_table_from_json(data, table_ref, job_config=job_config)\n",
    "    job.result()  # Wait for the job to complete\n",
    "    print(f'Data loaded into BigQuery table {dataset_id}.{table_id}')\n",
    "\n",
    "# Main function to orchestrate the process\n",
    "def main():\n",
    "    url = 'https://services1.myworkday.com/ccx/service/customreport2/smartcontract/joe.daly%40smartcontract.com/PA__Events?Business_Processes%21WID=c24592468ed147b2ac6d0de4d699a7da&Transaction_Status%21WID=1b0f3f40cfaa48dd9f1c86a154a1232a!d598e64d72444e0ea1d39bb88a52b601!b90bc51be01d4ae99b603b02b073714d&Event_Effective_Date_On_or_After=2020-01-01-08%3A00&format=json'\n",
    "    \n",
    "    # Enter your Workday API credentials here\n",
    "    username = 'Workday_Fivetran'\n",
    "    password = 'jrz!vet2khz1fxe!KCJ'\n",
    "    \n",
    "    report_data = fetch_workday_report(url, username, password)\n",
    "    if report_data:\n",
    "        project_id = 'ppl-stage-bigquery'\n",
    "        load_data_into_bigquery(report_data, project_id)\n",
    "\n",
    "if __name__ == '__main__':\n",
    "    main()\n",
    "\n",
    "\n"
   ]
  }
 ],
 "metadata": {
  "kernelspec": {
   "display_name": "Python 3",
   "language": "python",
   "name": "python3"
  },
  "language_info": {
   "codemirror_mode": {
    "name": "ipython",
    "version": 3
   },
   "file_extension": ".py",
   "mimetype": "text/x-python",
   "name": "python",
   "nbconvert_exporter": "python",
   "pygments_lexer": "ipython3",
   "version": "3.11.4"
  },
  "orig_nbformat": 4
 },
 "nbformat": 4,
 "nbformat_minor": 2
}
