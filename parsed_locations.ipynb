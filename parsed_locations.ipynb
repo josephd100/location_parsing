{
 "cells": [
  {
   "cell_type": "code",
   "execution_count": 48,
   "metadata": {},
   "outputs": [],
   "source": [
    "## Load Packages\n",
    "import pandas as pd\n",
    "import re\n",
    "import numpy as np\n",
    "from geopy.geocoders import GoogleV3\n",
    "from geopy.extra.rate_limiter import RateLimiter\n",
    "from google.cloud import bigquery\n",
    "from oauth2client.service_account import ServiceAccountCredentials\n",
    "import os"
   ]
  },
  {
   "cell_type": "code",
   "execution_count": 49,
   "metadata": {},
   "outputs": [],
   "source": [
    "#Setup Google API Key\n",
    "api_key = \"\"\n",
    "geolocator = GoogleV3(api_key=api_key)"
   ]
  },
  {
   "cell_type": "code",
   "execution_count": 50,
   "metadata": {},
   "outputs": [
    {
     "name": "stdout",
     "output_type": "stream",
     "text": [
      "409 POST https://bigquery.googleapis.com/bigquery/v2/projects/ppl-stage-bigquery/datasets?prettyPrint=false: Already Exists: Dataset ppl-stage-bigquery:pa_people_derived_tables\n"
     ]
    }
   ],
   "source": [
    "#Setup BigQuery Credentials\n",
    "gbq_credentials = ''\n",
    "\n",
    "#Apply credentials to BigQuery Client\n",
    "os.environ['GOOGLE_APPLICATION_CREDENTIALS'] = gbq_credentials\n",
    "client = bigquery.Client()\n",
    "dataset_id = \"ppl-stage-bigquery.pa_people_derived_tables\"\n",
    "dataset = bigquery.Dataset(dataset_id)\n",
    "dataset.location = \"\"\n",
    "try:\n",
    "    dataset = client.create_dataset(dataset)  # API request\n",
    "    print(\"Created dataset {}.{}\".format(client.project, dataset.dataset_id))\n",
    "except Exception as e:\n",
    "    print(e)"
   ]
  },
  {
   "cell_type": "code",
   "execution_count": 51,
   "metadata": {},
   "outputs": [],
   "source": [
    "#SQL Query and project\n",
    "bigquery_project = 'ppl-stage-bigquery'\n",
    "query = \"\"\"WITH parsed_education AS \n",
    "            ( SELECT \n",
    "                opportunity_id,\n",
    "                degree,\n",
    "                school_start_date,\n",
    "                school_end_date,\n",
    "                university,\n",
    "                field\n",
    "            FROM (\n",
    "                SELECT \n",
    "                    lo.id AS opportunity_id,\n",
    "                    los.degree AS degree,\n",
    "                    PARSE_DATE('%m/%d/%Y', CONCAT(CAST(los.start_month AS STRING), '/1/', CAST(los.start_year AS STRING))) AS school_start_date,\n",
    "                    PARSE_DATE('%m/%d/%Y', CONCAT(CAST(los.end_month AS STRING), '/1/', CAST(los.end_year AS STRING))) AS school_end_date,\n",
    "                    los.org AS university,\n",
    "                    los.field AS field,\n",
    "                    ROW_NUMBER() OVER (\n",
    "                        PARTITION BY lo.id \n",
    "                        ORDER BY PARSE_DATE('%m/%d/%Y', CONCAT(CAST(los.end_month AS STRING), '/1/', CAST(los.end_year AS STRING))) DESC, \n",
    "                                lo.id DESC\n",
    "                    ) AS school_rank\n",
    "                FROM lever.opportunity_school los\n",
    "                LEFT JOIN lever.resume lr ON los.resume_id = lr.id\n",
    "                LEFT JOIN lever.opportunity lo ON lr.opportunity_id = lo.id\n",
    "            ) ranked\n",
    "            WHERE school_rank = 1\n",
    "            ORDER BY opportunity_id DESC\n",
    "            ),\n",
    "            parsed_background AS \n",
    "            (\n",
    "            SELECT\n",
    "                lop.resume_id                                                                                          AS resume_id\n",
    "                , lo.id                                                                                                  AS opportunity_id\n",
    "                , PARSE_DATE('%m/%d/%Y', CONCAT(CAST(lop.start_month AS STRING), '/1/', CAST(lop.start_year AS STRING))) AS previous_company_start_date\n",
    "                , PARSE_DATE('%m/%d/%Y', CONCAT(CAST(lop.end_month AS STRING), '/1/', CAST(lop.end_year AS STRING)))     AS previous_company_end_date\n",
    "                , lop.org                                                                                                AS previous_company\n",
    "                , INITCAP(REGEXP_REPLACE(lop.org, r'^(.*?)[/(;:,].*$', r'\\1'))                                             AS formatted_company\n",
    "                , lop.title                                                                                              AS previous_title\n",
    "                , ROW_NUMBER() OVER (\n",
    "                    PARTITION BY lo.id\n",
    "                    ORDER BY \n",
    "                        PARSE_DATE('%m/%d/%Y', CONCAT(CAST(lop.start_month AS STRING), '/1/', CAST(lop.start_year AS STRING))) \n",
    "                        DESC, lo.id DESC\n",
    "                                )                                                                                        AS rank\n",
    "                FROM \n",
    "                lever.opportunity_position lop\n",
    "                LEFT JOIN \n",
    "                lever.resume lr\n",
    "                ON lop.resume_id = lr.id\n",
    "                LEFT JOIN \n",
    "                lever.opportunity lo\n",
    "                ON lr.opportunity_id = lo.id\n",
    "            )\n",
    "            SELECT \n",
    "                pb.opportunity_id\n",
    "                , pb.previous_company_start_date\n",
    "                , pb.previous_company_end_date\n",
    "                , DATE_DIFF(pb.previous_company_end_date, pb.previous_company_start_date, MONTH) AS tenure_months\n",
    "                , pb.previous_company\n",
    "                , pb.formatted_company\n",
    "                , pb.previous_title\n",
    "                , pe.degree\n",
    "                , pe.school_start_date\n",
    "                , pe.school_end_date\n",
    "                , pe.university\n",
    "                , pe.field\n",
    "                , pb.rank \n",
    "                FROM parsed_background pb\n",
    "                LEFT JOIN \n",
    "                    parsed_education pe\n",
    "                    ON pb.opportunity_id = pe.opportunity_id\n",
    "                ORDER BY pb.opportunity_id, rank ASC\"\"\""
   ]
  },
  {
   "cell_type": "code",
   "execution_count": 52,
   "metadata": {},
   "outputs": [],
   "source": [
    "#specify the project and result\n",
    "query_job = client.query(query, project=bigquery_project)\n",
    "results = query_job.result()\n",
    "\n",
    "#print results back to GBQ\n",
    "df = (\n",
    "    client.query(query, project=bigquery_project, location='europe-west2')\n",
    "    .result()\n",
    "    .to_dataframe()\n",
    ")"
   ]
  },
  {
   "cell_type": "code",
   "execution_count": 53,
   "metadata": {},
   "outputs": [],
   "source": [
    "# Transform raw university text to a clean format\n",
    "def clean_university(university):\n",
    "    if university is None:\n",
    "        return None\n",
    "    if ',' not in university and '-' not in university and ';' not in university and ':' not in university and '(' not in university:\n",
    "        return university.title()\n",
    "    tokens = [token.strip() for token in re.split(r'[\\,\\-;/:|\\(\\)]', university) if token]\n",
    "    name = university \n",
    "    for token in tokens:\n",
    "        lower_token = token.lower()\n",
    "        if 'universi' in lower_token or 'college' in lower_token or 'institut' in lower_token or 'school' in lower_token:\n",
    "            name = token\n",
    "            break\n",
    "    return name.title()\n",
    "\n",
    "df['parsed_university'] = df['university'].apply(clean_university)"
   ]
  },
  {
   "cell_type": "code",
   "execution_count": 54,
   "metadata": {},
   "outputs": [
    {
     "data": {
      "text/plain": [
       "LoadJob<project=ppl-stage-bigquery, location=europe-west2, id=6943831c-feed-4b00-baf9-d01b6912d5bb>"
      ]
     },
     "execution_count": 54,
     "metadata": {},
     "output_type": "execute_result"
    }
   ],
   "source": [
    "# Define the new schema\n",
    "new_schema = [\n",
    "    bigquery.SchemaField(\"opportunity_id\", \"STRING\"),\n",
    "    bigquery.SchemaField(\"previous_company_start_date\", \"DATE\"),\n",
    "    bigquery.SchemaField(\"previous_company_end_date\", \"DATE\"),\n",
    "    bigquery.SchemaField(\"tenure_months\", \"INTEGER\"),\n",
    "    bigquery.SchemaField(\"previous_company\", \"STRING\"),\n",
    "    bigquery.SchemaField(\"formatted_company\", \"STRING\"),\n",
    "    bigquery.SchemaField(\"previous_title\", \"STRING\"),\n",
    "    bigquery.SchemaField(\"degree\", \"STRING\"),\n",
    "    bigquery.SchemaField(\"school_start_date\", \"DATE\"),\n",
    "    bigquery.SchemaField(\"school_end_date\", \"DATE\"),\n",
    "    bigquery.SchemaField(\"university\", \"STRING\"),\n",
    "    bigquery.SchemaField(\"field\", \"STRING\"),\n",
    "    bigquery.SchemaField(\"rank\", \"INTEGER\")\n",
    "    # Add or modify fields as necessary\n",
    "]\n",
    "\n",
    "#create a derived destination table\n",
    "destination_table = f\"{client.project}.pa_people_derived_tables.parsed_backgrounds\"\n",
    "\n",
    "# Set up the job configuration with the new schema\n",
    "job_config = bigquery.LoadJobConfig(\n",
    "    schema=new_schema,\n",
    "    schema_update_options=[\n",
    "        bigquery.SchemaUpdateOption.ALLOW_FIELD_ADDITION\n",
    "    ]\n",
    ")\n",
    "\n",
    "# Load the DataFrame into BigQuery using the defined schema\n",
    "job = client.load_table_from_dataframe(df, destination_table, job_config=job_config)\n",
    "job.result()  # Wait for the job to complete"
   ]
  }
 ],
 "metadata": {
  "kernelspec": {
   "display_name": "Python 3",
   "language": "python",
   "name": "python3"
  },
  "language_info": {
   "codemirror_mode": {
    "name": "ipython",
    "version": 3
   },
   "file_extension": ".py",
   "mimetype": "text/x-python",
   "name": "python",
   "nbconvert_exporter": "python",
   "pygments_lexer": "ipython3",
   "version": "3.11.4"
  },
  "orig_nbformat": 4
 },
 "nbformat": 4,
 "nbformat_minor": 2
}
